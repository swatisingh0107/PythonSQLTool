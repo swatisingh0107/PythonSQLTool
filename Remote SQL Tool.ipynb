{
 "cells": [
  {
   "cell_type": "markdown",
   "metadata": {},
   "source": [
    "# Remote SQL Tool\n",
    "A utility that can execute queries on remote servers from your local computer across the Internet. It should take in a remote host, user name and password, run the query and return the results.\n",
    "\n",
    "## Prerequisites\n",
    "1. Install SQL Server Express 2012\n",
    "2. Install SQLLocalDB.msi\n",
    "3. pip install pyodbc in command line\n",
    "\n",
    "We are now ready to connect to Local SQL Server Instance with python and execute SQL Queries\n",
    "\n",
    "Note: To find the correct driver to use for our conection, goto Control Panel>System and Security> Administrative Tools>ODBC Data Source Administrator> System DSN> Add"
   ]
  },
  {
   "cell_type": "code",
   "execution_count": null,
   "metadata": {},
   "outputs": [],
   "source": [
    "#Connection String\n",
    "import pyodbc \n",
    "conn = pyodbc.connect( '''Driver={SQL Server Native Client 11.0};\n",
    "                        Server=(localdb)\\MSSQLLocalDB;\n",
    "                        Database=ToDo;\n",
    "                        port=1433;\n",
    "                        Trusted_Connection=yes'''   )\n",
    "\n",
    "\n",
    "cursor = conn.cursor()\n",
    "cursor.execute('SELECT * FROM ToDo.dbo.Todoes')\n",
    "\n",
    "for row in cursor:\n",
    "    print(row)"
   ]
  },
  {
   "cell_type": "code",
   "execution_count": null,
   "metadata": {},
   "outputs": [],
   "source": [
    "#Insert values in dbo.Todoes\n",
    "cursor.execute('''\n",
    "                INSERT INTO ToDo.dbo.Todoes (Description, CreatedDate,Done)\n",
    "                VALUES\n",
    "                ('Create Remote SQL Tool','20190717 12:13:00 PM',0),\n",
    "                ('Create Report Generator','20190717 12:14:00 PM',0)\n",
    "                ''')\n",
    "conn.commit()"
   ]
  },
  {
   "cell_type": "code",
   "execution_count": null,
   "metadata": {},
   "outputs": [],
   "source": [
    "cursor.execute('SELECT * FROM ToDo.dbo.Todoes')\n",
    "\n",
    "for row in cursor:\n",
    "    print(row)"
   ]
  },
  {
   "cell_type": "code",
   "execution_count": null,
   "metadata": {},
   "outputs": [],
   "source": [
    "#Update task status\n",
    "updatesql = \"UPDATE ToDo.dbo.Todoes SET Done = 1 WHERE ID =1 or ID=2\"\n",
    "cursor.execute(updatesql)\n",
    "conn.commit()"
   ]
  },
  {
   "cell_type": "code",
   "execution_count": null,
   "metadata": {},
   "outputs": [],
   "source": [
    "cursor.execute('SELECT * FROM ToDo.dbo.Todoes')\n",
    "\n",
    "for row in cursor:\n",
    "    print(row)"
   ]
  },
  {
   "cell_type": "code",
   "execution_count": null,
   "metadata": {},
   "outputs": [],
   "source": [
    "deletesql=\"DROP TABLE ToDO.dbo.Todoes\"\n",
    "cursor.execute(deletesql)\n",
    "conn.commit()"
   ]
  },
  {
   "cell_type": "code",
   "execution_count": null,
   "metadata": {},
   "outputs": [],
   "source": []
  }
 ],
 "metadata": {
  "kernelspec": {
   "display_name": "Python 3",
   "language": "python",
   "name": "python3"
  },
  "language_info": {
   "codemirror_mode": {
    "name": "ipython",
    "version": 3
   },
   "file_extension": ".py",
   "mimetype": "text/x-python",
   "name": "python",
   "nbconvert_exporter": "python",
   "pygments_lexer": "ipython3",
   "version": "3.7.2"
  }
 },
 "nbformat": 4,
 "nbformat_minor": 2
}
